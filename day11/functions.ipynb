{
 "cells": [
  {
   "attachments": {},
   "cell_type": "markdown",
   "metadata": {},
   "source": [
    "# Day 11: 30 Days of python programming"
   ]
  },
  {
   "attachments": {},
   "cell_type": "markdown",
   "metadata": {},
   "source": [
    "## Exercises: Level 1\n"
   ]
  },
  {
   "cell_type": "code",
   "execution_count": 2,
   "metadata": {},
   "outputs": [
    {
     "name": "stdout",
     "output_type": "stream",
     "text": [
      "3\n"
     ]
    }
   ],
   "source": [
    "# Declare a function add_two_numbers. It takes two parameters and it returns a sum\n",
    "def add_two_numbers(a,b):\n",
    "    return a + b\n",
    "\n",
    "print(add_two_numbers(1,2))\n"
   ]
  },
  {
   "attachments": {},
   "cell_type": "markdown",
   "metadata": {},
   "source": [
    "Write a function called add_all_nums which takes arbitrary number of arguments and sums all the arguments. Check if all the list items are number types. If not do give a reasonable feedback.\n"
   ]
  },
  {
   "cell_type": "code",
   "execution_count": 3,
   "metadata": {},
   "outputs": [
    {
     "name": "stdout",
     "output_type": "stream",
     "text": [
      "The area of a circle of radius 3cm is 28.274333882308138 cm2\n"
     ]
    }
   ],
   "source": [
    "import math\n",
    "\n",
    "def area_of_circle(r):\n",
    "  area = math.pi * r **2\n",
    "  return area\n",
    "print(f'The area of a circle of radius 3cm is {area_of_circle(3)} cm2')"
   ]
  },
  {
   "attachments": {},
   "cell_type": "markdown",
   "metadata": {},
   "source": [
    "Write a function called add_all_nums which takes arbitrary number of arguments and sums all the arguments. Check if all the list items are number types. If not do give a reasonable feedback."
   ]
  },
  {
   "cell_type": "code",
   "execution_count": 4,
   "metadata": {},
   "outputs": [
    {
     "name": "stdout",
     "output_type": "stream",
     "text": [
      "The sum of 5,6, 7.2 is 18.2\n"
     ]
    }
   ],
   "source": [
    "def add_all_nums(*x):\n",
    "  sum = 0\n",
    "  for num in x:\n",
    "    if type(num)==int or type(num)==float:\n",
    "      sum +=num\n",
    "    else:\n",
    "      sum = 'This is not a numnber'\n",
    "  return sum\n",
    "print(f'The sum of 5,6, 7.2 is {add_all_nums(5,6,7.2)}')"
   ]
  },
  {
   "attachments": {},
   "cell_type": "markdown",
   "metadata": {},
   "source": [
    "Temperature in °C can be converted to °F using this formula: °F = (°C x 9/5) + 32. Write a function which converts °C to °F, convert_celsius_to-fahrenheit."
   ]
  },
  {
   "cell_type": "code",
   "execution_count": 5,
   "metadata": {},
   "outputs": [
    {
     "name": "stdout",
     "output_type": "stream",
     "text": [
      "32 degrees celsius is 89.6 in Fahrenheits\n"
     ]
    }
   ],
   "source": [
    "def convert_celsius_to_fahrenheit(x):\n",
    "  F = x * (9/5) + 32\n",
    "  return F\n",
    "print(f'32 degrees celsius is {convert_celsius_to_fahrenheit(32)} in Fahrenheits')"
   ]
  },
  {
   "attachments": {},
   "cell_type": "markdown",
   "metadata": {},
   "source": [
    "Write a function called check-season, it takes a month parameter and returns the season: Autumn, Winter, Spring or Summer."
   ]
  },
  {
   "cell_type": "code",
   "execution_count": 9,
   "metadata": {},
   "outputs": [
    {
     "name": "stdout",
     "output_type": "stream",
     "text": [
      "August is in Summer\n"
     ]
    }
   ],
   "source": [
    "def check_season(month):\n",
    "  if month in ['September','October','November']:\n",
    "    season = 'Autumn or Fall'\n",
    "  elif month in ['December','January','February']:\n",
    "    season = 'Winter'\n",
    "  elif month in ['March','April','May']:\n",
    "    season = 'Spring'\n",
    "  else: \n",
    "    season = 'Summer'\n",
    "  return season\n",
    "\n",
    "print('August is in',check_season('August'))"
   ]
  },
  {
   "attachments": {},
   "cell_type": "markdown",
   "metadata": {},
   "source": [
    "Write a function called calculate_slope which return the slope of a linear equation"
   ]
  },
  {
   "cell_type": "code",
   "execution_count": 10,
   "metadata": {},
   "outputs": [],
   "source": [
    "def calculate_slope(x1,y1,x2,y2):\n",
    "    slope = (y2-y1)/(x2-x1)\n",
    "    return slope"
   ]
  },
  {
   "attachments": {},
   "cell_type": "markdown",
   "metadata": {},
   "source": [
    "Quadratic equation is calculated as follows: ax² + bx + c = 0. Write a function which calculates solution set of a quadratic equation, solve_quadratic_eqn."
   ]
  },
  {
   "cell_type": "code",
   "execution_count": 11,
   "metadata": {},
   "outputs": [
    {
     "name": "stdout",
     "output_type": "stream",
     "text": [
      "The solution are (-1-1.4142135623730951j) and (-1+1.4142135623730951j)\n"
     ]
    }
   ],
   "source": [
    "import cmath\n",
    "def solve_quadratic_eqn(a,b,c):\n",
    "    d = (b**2) - (4*a*c)\n",
    "    sol1 = (-b-cmath.sqrt(d))/(2*a)\n",
    "    sol2 = (-b+cmath.sqrt(d))/(2*a)\n",
    "    return 'The solution are {0} and {1}'.format(sol1,sol2)\n",
    "print(solve_quadratic_eqn(1,2,3))\n"
   ]
  },
  {
   "attachments": {},
   "cell_type": "markdown",
   "metadata": {},
   "source": [
    "Declare a function named print_list. It takes a list as a parameter and it prints out each element of the list."
   ]
  },
  {
   "cell_type": "code",
   "execution_count": 12,
   "metadata": {},
   "outputs": [
    {
     "name": "stdout",
     "output_type": "stream",
     "text": [
      "par1\n",
      "par2\n",
      "par3\n",
      "par4\n",
      "par5\n",
      "par6\n",
      "par7\n",
      "par8\n"
     ]
    }
   ],
   "source": [
    "def print_list(list):\n",
    "  for i in list:\n",
    "    print(i)\n",
    "    \n",
    "print_list(['par1','par2','par3','par4','par5','par6','par7','par8'])"
   ]
  },
  {
   "attachments": {},
   "cell_type": "markdown",
   "metadata": {},
   "source": [
    "Declare a function named reverse_list. It takes an array as a parameter and it returns the reverse of the array (use loops)."
   ]
  },
  {
   "cell_type": "code",
   "execution_count": 14,
   "metadata": {},
   "outputs": [
    {
     "name": "stdout",
     "output_type": "stream",
     "text": [
      "[3, 2, 1]\n"
     ]
    }
   ],
   "source": [
    "def reverse_list(arr):\n",
    "    reverse_arr = []\n",
    "    for i in range(len(arr)-1,-1,-1):\n",
    "        reverse_arr.append(arr[i])\n",
    "    return reverse_arr\n",
    "\n",
    "print(reverse_list([1,2,3]))\n"
   ]
  },
  {
   "attachments": {},
   "cell_type": "markdown",
   "metadata": {},
   "source": [
    "Declare a function named capitalize_list_items. It takes a list as a parameter and it returns a capitalized list of items"
   ]
  },
  {
   "cell_type": "code",
   "execution_count": 17,
   "metadata": {},
   "outputs": [
    {
     "name": "stdout",
     "output_type": "stream",
     "text": [
      "Original List: ['book', 'car', 'bike', 'door', 'dinner']\n",
      "Capitalized List: ['Book', 'Car', 'Bike', 'Door', 'Dinner']\n"
     ]
    }
   ],
   "source": [
    "def capitalize_list_items(list):\n",
    "    return [item.capitalize() for item in list]\n",
    "\n",
    "my_list = ['book', 'car', 'bike', 'door', 'dinner']\n",
    "capitalized_list = capitalize_list_items(my_list)\n",
    "print(\"Original List:\", my_list)\n",
    "print(\"Capitalized List:\", capitalized_list)\n"
   ]
  },
  {
   "attachments": {},
   "cell_type": "markdown",
   "metadata": {},
   "source": [
    "Declare a function named add_item. It takes a list and an item parameters. It returns a list with the item added at the end."
   ]
  },
  {
   "cell_type": "code",
   "execution_count": 19,
   "metadata": {},
   "outputs": [
    {
     "name": "stdout",
     "output_type": "stream",
     "text": [
      "['Potato', 'Tomato', 'Mango', 'Milk', 'Meat']\n",
      "[2, 3, 7, 9, 5]\n"
     ]
    }
   ],
   "source": [
    "def add_item(input_list, item):\n",
    "    input_list.append(item)\n",
    "    return input_list\n",
    "food_staff = ['Potato', 'Tomato', 'Mango', 'Milk']\n",
    "print(add_item(food_staff, 'Meat'))  \n",
    "numbers = [2, 3, 7, 9]\n",
    "print(add_item(numbers, 5))  \n"
   ]
  },
  {
   "attachments": {},
   "cell_type": "markdown",
   "metadata": {},
   "source": [
    "Declare a function named remove_item. It takes a list and an item parameters. It returns a list with the item removed from it."
   ]
  },
  {
   "cell_type": "code",
   "execution_count": 20,
   "metadata": {},
   "outputs": [
    {
     "name": "stdout",
     "output_type": "stream",
     "text": [
      "['Potato', 'Tomato', 'Milk']\n"
     ]
    }
   ],
   "source": [
    "def remove_item(lis,item_to_be_removed):\n",
    "    if item_to_be_removed not in lis:\n",
    "        return f\"{item_to_be_removed} is not in {lis}\"\n",
    "    else:\n",
    "        lis.remove(item_to_be_removed)\n",
    "    return lis\n",
    "\n",
    "food_staff = ['Potato', 'Tomato', 'Mango', 'Milk'];\n",
    "print(remove_item(food_staff, 'Mango'))  # ['Potato', 'Tomato', 'Milk'];"
   ]
  },
  {
   "attachments": {},
   "cell_type": "markdown",
   "metadata": {},
   "source": [
    "Declare a function named sum_of_numbers. It takes a number parameter and it adds all the numbers in that range."
   ]
  },
  {
   "cell_type": "code",
   "execution_count": 22,
   "metadata": {},
   "outputs": [
    {
     "name": "stdout",
     "output_type": "stream",
     "text": [
      " The sum of numbers upto 10 is 55\n"
     ]
    }
   ],
   "source": [
    "def sum_of_numbers(num):\n",
    "  sum = 0\n",
    "  for i in range(num+1):\n",
    "    sum += i\n",
    "  return sum\n",
    "print(f' The sum of numbers upto 10 is {sum_of_numbers(10)}')"
   ]
  },
  {
   "attachments": {},
   "cell_type": "markdown",
   "metadata": {},
   "source": [
    "Declare a function named sum_of_odds. It takes a number parameter and it adds all the odd numbers in that range."
   ]
  },
  {
   "cell_type": "code",
   "execution_count": 23,
   "metadata": {},
   "outputs": [
    {
     "name": "stdout",
     "output_type": "stream",
     "text": [
      "The sum of odd numbers upto 10 is 25 \n"
     ]
    }
   ],
   "source": [
    "def sum_of_odds(num):\n",
    "  sum = 0\n",
    "  for i in range(num+1):\n",
    "    if i % 2 ==1:\n",
    "      sum += i\n",
    "  return sum\n",
    "\n",
    "print(f'The sum of odd numbers upto 10 is {sum_of_odds(10)} ')"
   ]
  },
  {
   "attachments": {},
   "cell_type": "markdown",
   "metadata": {},
   "source": [
    "Declare a function named sum_of_even. It takes a number parameter and it adds all the even numbers in that - range."
   ]
  },
  {
   "cell_type": "code",
   "execution_count": 24,
   "metadata": {},
   "outputs": [
    {
     "name": "stdout",
     "output_type": "stream",
     "text": [
      "The sum of even numbers upto 10 is 30 \n"
     ]
    }
   ],
   "source": [
    "def sum_of_evens(num):\n",
    "  sum = 0\n",
    "  for i in range(num+1):\n",
    "    if i % 2 == 0:\n",
    "      sum +=i\n",
    "  return sum\n",
    "print(f'The sum of even numbers upto 10 is {sum_of_evens(10)} ')"
   ]
  },
  {
   "attachments": {},
   "cell_type": "markdown",
   "metadata": {},
   "source": [
    "## Exercises: Level 2"
   ]
  },
  {
   "attachments": {},
   "cell_type": "markdown",
   "metadata": {},
   "source": [
    "Declare a function named evens_and_odds . It takes a positive integer as parameter and it counts number of evens and odds in the number."
   ]
  },
  {
   "cell_type": "code",
   "execution_count": 2,
   "metadata": {},
   "outputs": [
    {
     "name": "stdout",
     "output_type": "stream",
     "text": [
      "The number of odd are: 50 \n",
      "The number of even are: 51\n"
     ]
    }
   ],
   "source": [
    "def evens_and_odds(j):\n",
    "  num_even = 0\n",
    "  num_odd = 0\n",
    "  for i in range(j +1):\n",
    "    if i % 2 == 0:\n",
    "      num_even += 1\n",
    "    else: \n",
    "      num_odd +=1\n",
    "  return f'The number of odd are: {num_odd} \\nThe number of even are: {num_even}'\n",
    "  \n",
    "print(evens_and_odds(100))\n"
   ]
  },
  {
   "attachments": {},
   "cell_type": "markdown",
   "metadata": {},
   "source": [
    "Call your function factorial, it takes a whole number as a parameter and it return a factorial of the number"
   ]
  },
  {
   "cell_type": "code",
   "execution_count": 3,
   "metadata": {},
   "outputs": [
    {
     "name": "stdout",
     "output_type": "stream",
     "text": [
      "The factorial of 6 is 720 \n"
     ]
    }
   ],
   "source": [
    "def factorial(x):\n",
    "  fact = 1\n",
    "  for i in range(1,x+1):\n",
    "    fact *= i\n",
    "  return fact\n",
    "\n",
    "print(f'The factorial of 6 is {factorial(6)} ')"
   ]
  },
  {
   "attachments": {},
   "cell_type": "markdown",
   "metadata": {},
   "source": [
    "Call your function is_empty, it takes a parameter and it checks if it is empty or not"
   ]
  },
  {
   "cell_type": "code",
   "execution_count": 4,
   "metadata": {},
   "outputs": [
    {
     "name": "stdout",
     "output_type": "stream",
     "text": [
      "Empty\n"
     ]
    }
   ],
   "source": [
    "def is_empty(x):\n",
    "  if len(x) == 0:\n",
    "    state = 'Empty'\n",
    "  else:\n",
    "    state = 'Not empty'\n",
    "  return state\n",
    "print(is_empty([]))"
   ]
  },
  {
   "attachments": {},
   "cell_type": "markdown",
   "metadata": {},
   "source": [
    "Write different functions which take lists. They should calculate_mean, calculate_median, calculate_mode, calculate_range, calculate_variance, calculate_std (standard deviation)."
   ]
  },
  {
   "cell_type": "code",
   "execution_count": 5,
   "metadata": {},
   "outputs": [
    {
     "name": "stdout",
     "output_type": "stream",
     "text": [
      "The mean of [2, 4, 6, 8, 10]: 6.0\n",
      "The median of [4, 8, 10, 6, 2]: 6\n",
      "The median of [6, 2, 8, 4]: 5.0\n",
      "The mode of [5, 5, 7, 9, 7, 5, 9, 11]: [5]\n",
      "The range of [1, 20, 3, 50, 6, 7]: 49\n",
      "The variance of [2, 4, 6, 8, 10]: 10.0\n",
      "The standard deviation of [2, 4, 6, 8, 10]: 3.1622776601683795\n"
     ]
    }
   ],
   "source": [
    "def calculate_mean(input_list):\n",
    "    total_sum = 0\n",
    "    for i in range(len(input_list)):\n",
    "        total_sum += input_list[i]\n",
    "    mean = total_sum / len(input_list)\n",
    "    return mean\n",
    "\n",
    "print(f'The mean of [2, 4, 6, 8, 10]: {calculate_mean([2, 4, 6, 8, 10])}')\n",
    "\n",
    "def calculate_median(input_list):\n",
    "    list_length = len(input_list)\n",
    "    input_list.sort()\n",
    "    if list_length % 2 == 0:\n",
    "        median = (input_list[list_length//2] + input_list[list_length//2 - 1]) / 2\n",
    "    else:\n",
    "        median = input_list[list_length//2]\n",
    "    return median\n",
    "\n",
    "print(f'The median of [4, 8, 10, 6, 2]: {calculate_median([4, 8, 10, 6, 2])}')\n",
    "print(f'The median of [6, 2, 8, 4]: {calculate_median([6, 2, 8, 4])}')\n",
    "\n",
    "def calculate_mode(input_list):\n",
    "    frequency_dict = {}\n",
    "    for item in input_list:\n",
    "        frequency_dict[item] = frequency_dict.get(item, 0) + 1\n",
    "    return [i for i, j in frequency_dict.items() if j == max(frequency_dict.values())]\n",
    "\n",
    "print(f'The mode of [5, 5, 7, 9, 7, 5, 9, 11]: {calculate_mode([5, 5, 7, 9, 7, 5, 9, 11])}')\n",
    "\n",
    "def calculate_range(input_list):\n",
    "    input_list.sort()\n",
    "    range_val = input_list[len(input_list)-1] - input_list[0]\n",
    "    return range_val\n",
    "\n",
    "print(f'The range of [1, 20, 3, 50, 6, 7]: {calculate_range([1, 20, 3, 50, 6, 7])}')\n",
    "\n",
    "def calculate_variance(input_list):\n",
    "    total_sum = 0\n",
    "    sum_of_diffs = 0\n",
    "    for i in range(len(input_list)):\n",
    "        total_sum += input_list[i]\n",
    "    mean = total_sum / len(input_list)\n",
    "    for i in range(len(input_list)):\n",
    "        sum_of_diffs += (input_list[i] - mean) ** 2\n",
    "    variance = sum_of_diffs / (len(input_list) - 1)\n",
    "    return variance\n",
    "\n",
    "print(f'The variance of [2, 4, 6, 8, 10]: {calculate_variance([2, 4, 6, 8, 10])}')\n",
    "\n",
    "def calculate_std(input_list):\n",
    "    total_sum = 0\n",
    "    sum_of_diffs = 0\n",
    "    for i in range(len(input_list)):\n",
    "        total_sum += input_list[i]\n",
    "    mean = total_sum / len(input_list)\n",
    "    for i in range(len(input_list)):\n",
    "        sum_of_diffs += ((input_list[i] - mean) ** 2)\n",
    "    sd = (sum_of_diffs / (len(input_list) - 1)) ** (1/2)\n",
    "    return sd\n",
    "\n",
    "print(f'The standard deviation of [2, 4, 6, 8, 10]: {calculate_std([2, 4, 6, 8, 10])}')"
   ]
  },
  {
   "attachments": {},
   "cell_type": "markdown",
   "metadata": {},
   "source": [
    "## Exercises: Level 3"
   ]
  },
  {
   "attachments": {},
   "cell_type": "markdown",
   "metadata": {},
   "source": [
    "Write a function called is_prime, which checks if a number is prime."
   ]
  },
  {
   "cell_type": "code",
   "execution_count": 9,
   "metadata": {},
   "outputs": [
    {
     "name": "stdout",
     "output_type": "stream",
     "text": [
      "True\n"
     ]
    }
   ],
   "source": [
    "def is_prime(num):\n",
    "    if num == 2:\n",
    "        return True\n",
    "    if num % 2 == 0:\n",
    "        return False\n",
    "    for i in range(3, int(math.sqrt(num)) + 1, 2):\n",
    "        if num % i == 0:\n",
    "            return False\n",
    "    return num > 1\n",
    "\n",
    "print(is_prime(7))"
   ]
  },
  {
   "attachments": {},
   "cell_type": "markdown",
   "metadata": {},
   "source": [
    "Write a functions which checks if all items are unique in the list."
   ]
  },
  {
   "cell_type": "code",
   "execution_count": 10,
   "metadata": {},
   "outputs": [
    {
     "name": "stdout",
     "output_type": "stream",
     "text": [
      "True\n",
      "False\n"
     ]
    }
   ],
   "source": [
    "def are_all_unique(i):\n",
    "    return len(i) == len(set(i))\n",
    "\n",
    "list1 = [1, 2, 3, 4, 5]\n",
    "list2 = [1, 2, 2, 4, 5]\n",
    "\n",
    "print(are_all_unique(list1))  \n",
    "print(are_all_unique(list2)) \n"
   ]
  },
  {
   "attachments": {},
   "cell_type": "markdown",
   "metadata": {},
   "source": [
    "Write a function which checks if all the items of the list are of the same data type."
   ]
  },
  {
   "cell_type": "code",
   "execution_count": 12,
   "metadata": {},
   "outputs": [
    {
     "name": "stdout",
     "output_type": "stream",
     "text": [
      "True\n",
      "True\n",
      "True\n",
      "False\n"
     ]
    }
   ],
   "source": [
    "def check_type(data):\n",
    "    if len(data) == 0:\n",
    "       return True\n",
    "    data_type = type(data[0])\n",
    "    for item in data:\n",
    "       if type(item) != data_type:\n",
    "         return False\n",
    "    return True\n",
    "\n",
    "data1 = [1, 2, 3, 4, 5]  \n",
    "data2 = [1.0, 2.0, 3.0]  \n",
    "data3 = [\"a\", \"b\", \"c\"]  \n",
    "data4 = [1, \"a\", True] \n",
    "\n",
    "print(check_type(data1))  \n",
    "print(check_type(data2))  \n",
    "print(check_type(data3)) \n",
    "print(check_type(data4))"
   ]
  },
  {
   "attachments": {},
   "cell_type": "markdown",
   "metadata": {},
   "source": [
    "Write a function which check if provided variable is a valid python variable"
   ]
  },
  {
   "cell_type": "code",
   "execution_count": 15,
   "metadata": {},
   "outputs": [
    {
     "name": "stdout",
     "output_type": "stream",
     "text": [
      "False\n"
     ]
    }
   ],
   "source": [
    "def check_valid_var(var):\n",
    "    return var.isidentifier()\n",
    "print(check_valid_var(\"c-\"))"
   ]
  },
  {
   "attachments": {},
   "cell_type": "markdown",
   "metadata": {},
   "source": [
    "Go to the data folder and access the countries-data.py file.\n",
    " - Create a function called the most_spoken_languages in the world. It should return 10 or 20 most spoken languages in the world in descending order\n",
    " - Create a function called the most_populated_countries. It should return 10 or 20 most populated countries in descending order.\n"
   ]
  },
  {
   "cell_type": "code",
   "execution_count": 26,
   "metadata": {},
   "outputs": [
    {
     "name": "stdout",
     "output_type": "stream",
     "text": [
      "[('English', 91), ('French', 45), ('Arabic', 25), ('Spanish', 24), ('Portuguese', 9), ('Russian', 9), ('Dutch', 8), ('German', 7), ('Chinese', 5), ('Serbian', 4)]\n"
     ]
    }
   ],
   "source": [
    "from country_data import countries_data\n",
    "\n",
    "def most_spoken_languages():\n",
    "    languages = []\n",
    "    for country in countries_data:\n",
    "        languages.extend(country['languages'])\n",
    "\n",
    "    lang_count = {}\n",
    "    for language in languages:\n",
    "        lang_count[language] = lang_count.get(language, 0) + 1\n",
    "\n",
    "    sorted_lang = sorted(lang_count.items(), key=lambda x: x[1], reverse=True)\n",
    "    top_ten = sorted_lang[:10]\n",
    "    return top_ten\n",
    "\n",
    "print(most_spoken_languages())\n"
   ]
  },
  {
   "cell_type": "code",
   "execution_count": 25,
   "metadata": {},
   "outputs": [
    {
     "name": "stdout",
     "output_type": "stream",
     "text": [
      "['China', 'India', 'United States of America', 'Indonesia', 'Brazil', 'Pakistan', 'Nigeria', 'Bangladesh', 'Russian Federation', 'Japan']\n"
     ]
    }
   ],
   "source": [
    "def most_populated_countries():\n",
    "    population = {}\n",
    "    for i in range(len(countries_data)):\n",
    "        keys = countries_data[i]['name']\n",
    "        values = countries_data[i]['population']\n",
    "        population[keys] = values\n",
    "\n",
    "    sorted_pop = sorted(population.items(), key=lambda x: x[1], reverse=True)\n",
    "\n",
    "    most_pop = []\n",
    "    for i in range(10):\n",
    "        most_pop.append(sorted_pop[i][0])\n",
    "\n",
    "    return most_pop\n",
    "\n",
    "print(most_populated_countries())"
   ]
  }
 ],
 "metadata": {
  "kernelspec": {
   "display_name": "arewads",
   "language": "python",
   "name": "python3"
  },
  "language_info": {
   "codemirror_mode": {
    "name": "ipython",
    "version": 3
   },
   "file_extension": ".py",
   "mimetype": "text/x-python",
   "name": "python",
   "nbconvert_exporter": "python",
   "pygments_lexer": "ipython3",
   "version": "3.10.13"
  },
  "orig_nbformat": 4
 },
 "nbformat": 4,
 "nbformat_minor": 2
}
